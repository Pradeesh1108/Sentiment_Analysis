{
 "cells": [
  {
   "metadata": {},
   "cell_type": "markdown",
   "source": "SENTIMENT ANALYSIS",
   "id": "6d6c2020748522ce"
  },
  {
   "metadata": {
    "ExecuteTime": {
     "end_time": "2024-10-07T22:22:13.096177Z",
     "start_time": "2024-10-07T22:22:13.081091Z"
    }
   },
   "cell_type": "code",
   "source": [
    "import torch\n",
    "from torch.utils.data import Dataset, DataLoader\n",
    "from transformers import BertTokenizer, BertForSequenceClassification, AdamW\n",
    "from sklearn.model_selection import train_test_split\n",
    "import pandas as pd\n",
    "import re"
   ],
   "id": "9b7a1c7464d6e2f4",
   "outputs": [],
   "execution_count": 16
  },
  {
   "metadata": {
    "ExecuteTime": {
     "end_time": "2024-10-07T22:22:15.395642Z",
     "start_time": "2024-10-07T22:22:13.134328Z"
    }
   },
   "cell_type": "code",
   "source": [
    "df = pd.read_csv('Dataset/IMDB_Dataset.csv')\n",
    "def preprocess(text):\n",
    "    text = text.lower()\n",
    "    text = re.sub(r'<br\\s*/?>', ' ', text)\n",
    "    text = re.sub(r'<[^>]+>', '', text)\n",
    "    text = re.sub(r'[^\\w\\s]', '', text)\n",
    "    text = ' '.join(text.split())\n",
    "    return text\n",
    "df['cleaned_text'] = df['review'].apply(preprocess)\n",
    "df['sentiment'] = df['sentiment'].apply(lambda x: 1 if x == 'positive' else 0)\n",
    "df.head()"
   ],
   "id": "b833bba11dc2023",
   "outputs": [
    {
     "data": {
      "text/plain": [
       "                                              review  sentiment  \\\n",
       "0  One of the other reviewers has mentioned that ...          1   \n",
       "1  A wonderful little production. <br /><br />The...          1   \n",
       "2  I thought this was a wonderful way to spend ti...          1   \n",
       "3  Basically there's a family where a little boy ...          0   \n",
       "4  Petter Mattei's \"Love in the Time of Money\" is...          1   \n",
       "\n",
       "                                        cleaned_text  \n",
       "0  one of the other reviewers has mentioned that ...  \n",
       "1  a wonderful little production the filming tech...  \n",
       "2  i thought this was a wonderful way to spend ti...  \n",
       "3  basically theres a family where a little boy j...  \n",
       "4  petter matteis love in the time of money is a ...  "
      ],
      "text/html": [
       "<div>\n",
       "<style scoped>\n",
       "    .dataframe tbody tr th:only-of-type {\n",
       "        vertical-align: middle;\n",
       "    }\n",
       "\n",
       "    .dataframe tbody tr th {\n",
       "        vertical-align: top;\n",
       "    }\n",
       "\n",
       "    .dataframe thead th {\n",
       "        text-align: right;\n",
       "    }\n",
       "</style>\n",
       "<table border=\"1\" class=\"dataframe\">\n",
       "  <thead>\n",
       "    <tr style=\"text-align: right;\">\n",
       "      <th></th>\n",
       "      <th>review</th>\n",
       "      <th>sentiment</th>\n",
       "      <th>cleaned_text</th>\n",
       "    </tr>\n",
       "  </thead>\n",
       "  <tbody>\n",
       "    <tr>\n",
       "      <th>0</th>\n",
       "      <td>One of the other reviewers has mentioned that ...</td>\n",
       "      <td>1</td>\n",
       "      <td>one of the other reviewers has mentioned that ...</td>\n",
       "    </tr>\n",
       "    <tr>\n",
       "      <th>1</th>\n",
       "      <td>A wonderful little production. &lt;br /&gt;&lt;br /&gt;The...</td>\n",
       "      <td>1</td>\n",
       "      <td>a wonderful little production the filming tech...</td>\n",
       "    </tr>\n",
       "    <tr>\n",
       "      <th>2</th>\n",
       "      <td>I thought this was a wonderful way to spend ti...</td>\n",
       "      <td>1</td>\n",
       "      <td>i thought this was a wonderful way to spend ti...</td>\n",
       "    </tr>\n",
       "    <tr>\n",
       "      <th>3</th>\n",
       "      <td>Basically there's a family where a little boy ...</td>\n",
       "      <td>0</td>\n",
       "      <td>basically theres a family where a little boy j...</td>\n",
       "    </tr>\n",
       "    <tr>\n",
       "      <th>4</th>\n",
       "      <td>Petter Mattei's \"Love in the Time of Money\" is...</td>\n",
       "      <td>1</td>\n",
       "      <td>petter matteis love in the time of money is a ...</td>\n",
       "    </tr>\n",
       "  </tbody>\n",
       "</table>\n",
       "</div>"
      ]
     },
     "execution_count": 17,
     "metadata": {},
     "output_type": "execute_result"
    }
   ],
   "execution_count": 17
  },
  {
   "metadata": {
    "ExecuteTime": {
     "end_time": "2024-10-07T22:22:15.415435Z",
     "start_time": "2024-10-07T22:22:15.396975Z"
    }
   },
   "cell_type": "code",
   "source": [
    "maximum_length = 1500\n",
    "df['cleaned_text'] = df['cleaned_text'].apply(lambda x: x[:maximum_length])"
   ],
   "id": "f7b1a1c4e1d4a528",
   "outputs": [],
   "execution_count": 18
  },
  {
   "metadata": {
    "ExecuteTime": {
     "end_time": "2024-10-07T22:22:15.432601Z",
     "start_time": "2024-10-07T22:22:15.416369Z"
    }
   },
   "cell_type": "code",
   "source": [
    "minimum_length = 600\n",
    "df['cleaned_text'] = df['cleaned_text'].apply(lambda x: x.ljust(minimum_length))"
   ],
   "id": "59c5c3e4fc45493a",
   "outputs": [],
   "execution_count": 19
  },
  {
   "metadata": {
    "ExecuteTime": {
     "end_time": "2024-10-07T22:22:15.456293Z",
     "start_time": "2024-10-07T22:22:15.434424Z"
    }
   },
   "cell_type": "code",
   "source": "print(df['cleaned_text'].apply(len).describe())\n",
   "id": "ce00d54de192eb93",
   "outputs": [
    {
     "name": "stdout",
     "output_type": "stream",
     "text": [
      "count    50000.000000\n",
      "mean      1014.992520\n",
      "std        356.805802\n",
      "min        600.000000\n",
      "25%        667.000000\n",
      "50%        924.000000\n",
      "75%       1500.000000\n",
      "max       1500.000000\n",
      "Name: cleaned_text, dtype: float64\n"
     ]
    }
   ],
   "execution_count": 20
  },
  {
   "metadata": {
    "ExecuteTime": {
     "end_time": "2024-10-07T22:22:15.465169Z",
     "start_time": "2024-10-07T22:22:15.456879Z"
    }
   },
   "cell_type": "code",
   "source": [
    "train_texts, val_texts, train_labels, val_labels = train_test_split(\n",
    "    df['cleaned_text'].values, df['sentiment'].values, test_size=0.2, random_state=42)\n"
   ],
   "id": "25dc4d2f79d7cdc8",
   "outputs": [],
   "execution_count": 21
  },
  {
   "metadata": {
    "ExecuteTime": {
     "end_time": "2024-10-07T22:22:17.047391Z",
     "start_time": "2024-10-07T22:22:15.466240Z"
    }
   },
   "cell_type": "code",
   "source": [
    "tokenizer = BertTokenizer.from_pretrained('bert-base-cased')\n",
    "model = BertForSequenceClassification.from_pretrained('bert-base-cased',num_labels=2)"
   ],
   "id": "25c00ea7bf802be3",
   "outputs": [
    {
     "name": "stderr",
     "output_type": "stream",
     "text": [
      "Some weights of BertForSequenceClassification were not initialized from the model checkpoint at bert-base-cased and are newly initialized: ['classifier.bias', 'classifier.weight']\n",
      "You should probably TRAIN this model on a down-stream task to be able to use it for predictions and inference.\n"
     ]
    }
   ],
   "execution_count": 22
  },
  {
   "metadata": {
    "ExecuteTime": {
     "end_time": "2024-10-07T22:22:17.051847Z",
     "start_time": "2024-10-07T22:22:17.048202Z"
    }
   },
   "cell_type": "code",
   "source": [
    "class ReviewDataset(Dataset):\n",
    "    def __init__(self, review, labels):\n",
    "        self.review = review\n",
    "        self.labels = labels\n",
    "    \n",
    "    def __len__(self):\n",
    "        return len(self.review)\n",
    "    \n",
    "    def __getitem__(self, idx):\n",
    "        review = str(self.review[idx])\n",
    "        label = self.labels[idx]\n",
    "        encoding = tokenizer.encode_plus(\n",
    "            review, \n",
    "            add_special_tokens=True,\n",
    "            max_length= 128,\n",
    "            padding='max_length',\n",
    "            return_attention_mask=True,\n",
    "            return_tensors='pt',\n",
    "            truncation=True\n",
    "        )\n",
    "        return {\n",
    "            'input_ids': encoding['input_ids'].flatten(),\n",
    "            'attention_mask': encoding['attention_mask'].flatten(),\n",
    "            'labels': torch.tensor(label,dtype=torch.long)\n",
    "        }\n",
    "        "
   ],
   "id": "43ffdcddf42fd706",
   "outputs": [],
   "execution_count": 23
  },
  {
   "metadata": {
    "ExecuteTime": {
     "end_time": "2024-10-07T22:22:17.056285Z",
     "start_time": "2024-10-07T22:22:17.052755Z"
    }
   },
   "cell_type": "code",
   "source": [
    "train_dataset = ReviewDataset(train_texts, train_labels)\n",
    "val_dataset = ReviewDataset(val_texts, val_labels)\n",
    "\n",
    "train_dataloader = DataLoader(train_dataset, batch_size=16, shuffle=True)\n",
    "val_dataloader = DataLoader(val_dataset, batch_size=16)"
   ],
   "id": "50f29ee68c861a37",
   "outputs": [],
   "execution_count": 24
  },
  {
   "metadata": {
    "ExecuteTime": {
     "end_time": "2024-10-07T22:22:17.060593Z",
     "start_time": "2024-10-07T22:22:17.056847Z"
    }
   },
   "cell_type": "code",
   "source": [
    "def train_model(model, train_loader, val_loader,epochs = 3):\n",
    "    optimizer = AdamW(model.parameters(), lr=2e-5)\n",
    "    model.train()\n",
    "    \n",
    "    for epoch in range(epochs):\n",
    "        print(f\"Epoch {epoch+1}/epochs\")\n",
    "        total_loss = 0\n",
    "        for batch in train_loader:\n",
    "            optimizer.zero_grad()\n",
    "            input_ids = batch['input_ids']\n",
    "            attention_mask = batch['attention_mask']\n",
    "            labels = batch['labels']\n",
    "            outputs = model(input_ids, attention_mask=attention_mask, labels=labels)\n",
    "            loss = outputs.loss\n",
    "            loss.backward()\n",
    "            optimizer.step()\n",
    "            total_loss += loss.item()\n",
    "        print(f\"Training loss for epoch {epoch+1}: {total_loss / len(train_loader)}\")\n",
    "        \n",
    "        model.eval()\n",
    "        val_loss = 0\n",
    "        preds, true_labels = [], []\n",
    "        with torch.no_grad():\n",
    "            for batch in val_loader:\n",
    "                input_ids = batch['input_ids']\n",
    "                attention_mask = batch['attention_mask']\n",
    "                labels = batch['labels']\n",
    "                outputs = model(input_ids, attention_mask=attention_mask, labels=labels)\n",
    "                val_loss += outputs.loss.item()\n",
    "                preds.extend(torch.argmax(outputs.logits, axis = 1).tolist())\n",
    "                true_labels.extend(labels.tolist())\n",
    "        accuracy = sum([p == t for p, t in zip(preds, true_labels)]) / len(true_labels)\n",
    "        print(f\"Validation Accuracy after epoch {epoch+1}: {accuracy}\")\n",
    "    return model\n",
    "        "
   ],
   "id": "f3fb0cf055b594af",
   "outputs": [],
   "execution_count": 25
  },
  {
   "metadata": {
    "ExecuteTime": {
     "end_time": "2024-10-08T07:05:33.426389Z",
     "start_time": "2024-10-07T22:22:17.062440Z"
    }
   },
   "cell_type": "code",
   "source": [
    "trained_model = train_model(model, train_dataloader, val_dataloader)\n",
    "torch.save(trained_model.state_dict(), 'Model/BERT_Model.pt')\n",
    "print(\"Model has been saved\")"
   ],
   "id": "1a8bd7a0f4d4e453",
   "outputs": [
    {
     "name": "stderr",
     "output_type": "stream",
     "text": [
      "/Users/pradeesh11/Documents/Machine_Learning_Projects/Sentiment_Analysis/.venv/lib/python3.12/site-packages/transformers/optimization.py:591: FutureWarning: This implementation of AdamW is deprecated and will be removed in a future version. Use the PyTorch implementation torch.optim.AdamW instead, or set `no_deprecation_warning=True` to disable this warning\n",
      "  warnings.warn(\n"
     ]
    },
    {
     "name": "stdout",
     "output_type": "stream",
     "text": [
      "Epoch 1/epochs\n",
      "Training loss for epoch 1: 0.32617951369807124\n",
      "Validation Accuracy after epoch 1: 0.8824\n",
      "Epoch 2/epochs\n",
      "Training loss for epoch 2: 0.17833268203828484\n",
      "Validation Accuracy after epoch 2: 0.8899\n",
      "Epoch 3/epochs\n",
      "Training loss for epoch 3: 0.06506620869969483\n",
      "Validation Accuracy after epoch 3: 0.8811\n",
      "Model has been saved\n"
     ]
    }
   ],
   "execution_count": 26
  },
  {
   "metadata": {},
   "cell_type": "code",
   "outputs": [],
   "execution_count": null,
   "source": "",
   "id": "c63d9acf5f0fc03"
  }
 ],
 "metadata": {
  "kernelspec": {
   "display_name": "Python 3",
   "language": "python",
   "name": "python3"
  },
  "language_info": {
   "codemirror_mode": {
    "name": "ipython",
    "version": 2
   },
   "file_extension": ".py",
   "mimetype": "text/x-python",
   "name": "python",
   "nbconvert_exporter": "python",
   "pygments_lexer": "ipython2",
   "version": "2.7.6"
  }
 },
 "nbformat": 4,
 "nbformat_minor": 5
}
